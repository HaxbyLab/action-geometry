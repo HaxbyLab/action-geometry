{
 "cells": [
  {
   "cell_type": "markdown",
   "metadata": {
    "deletable": true,
    "editable": true
   },
   "source": [
    "We use the sequence generator from Geoffrey Aguirre's lab (https://cfn.upenn.edu/aguirre/wiki/public:web-based_sequence_evaluator) to generate the Type 1 Index 1 sequence of stimuli. We have 20 stimulus categories plus a null fixation trial and a catch trial (semantic question), totaling 22 trial categories."
   ]
  },
  {
   "cell_type": "code",
   "execution_count": 1,
   "metadata": {
    "collapsed": false,
    "deletable": true,
    "editable": true
   },
   "outputs": [
    {
     "name": "stderr",
     "output_type": "stream",
     "text": [
      "/usr/lib/python2.7/dist-packages/matplotlib/font_manager.py:273: UserWarning: Matplotlib is building the font cache using fc-list. This may take a moment.\n",
      "  warnings.warn('Matplotlib is building the font cache using fc-list. This may take a moment.')\n"
     ]
    }
   ],
   "source": [
    "import numpy as np\n",
    "from scipy.spatial.distance import squareform\n",
    "from evalseqshard import EvaluateSeqshard, vec2sim\n",
    "import matplotlib.pyplot as plt"
   ]
  },
  {
   "cell_type": "code",
   "execution_count": 2,
   "metadata": {
    "collapsed": true
   },
   "outputs": [],
   "source": [
    "# Participant number for random seed\n",
    "participant = 1"
   ]
  },
  {
   "cell_type": "code",
   "execution_count": 14,
   "metadata": {
    "collapsed": true,
    "deletable": true,
    "editable": true
   },
   "outputs": [],
   "source": [
    "# Create dictionary of parameters for EvaluateSeqshard function\n",
    "parameters = {'N': 22,\n",
    "              'perms': 10000,\n",
    "              'TrialDuration': 5,\n",
    "              'BlankLength': 1,\n",
    "              'doubleblanks': False,\n",
    "              'target': 21,\n",
    "              'numSeqs': 100}"
   ]
  },
  {
   "cell_type": "code",
   "execution_count": 15,
   "metadata": {
    "collapsed": true,
    "deletable": true,
    "editable": true
   },
   "outputs": [],
   "source": [
    "# Simple similarity matrix separating the 20 categories\n",
    "category_rdm = np.array([[0., 1., 1., 1., 1., 1., 1., 1., 1., 1., 1., 1., 1., 1., 1., 1., 1., 1., 1., 1.,],\n",
    "                         [1., 0., 1., 1., 1., 1., 1., 1., 1., 1., 1., 1., 1., 1., 1., 1., 1., 1., 1., 1.,],\n",
    "                         [1., 1., 0., 1., 1., 1., 1., 1., 1., 1., 1., 1., 1., 1., 1., 1., 1., 1., 1., 1.,],\n",
    "                         [1., 1., 1., 0., 1., 1., 1., 1., 1., 1., 1., 1., 1., 1., 1., 1., 1., 1., 1., 1.,],\n",
    "                         [1., 1., 1., 1., 0., 1., 1., 1., 1., 1., 1., 1., 1., 1., 1., 1., 1., 1., 1., 1.,],\n",
    "                         [1., 1., 1., 1., 1., 0., 1., 1., 1., 1., 1., 1., 1., 1., 1., 1., 1., 1., 1., 1.,],\n",
    "                         [1., 1., 1., 1., 1., 1., 0., 1., 1., 1., 1., 1., 1., 1., 1., 1., 1., 1., 1., 1.,],\n",
    "                         [1., 1., 1., 1., 1., 1., 1., 0., 1., 1., 1., 1., 1., 1., 1., 1., 1., 1., 1., 1.,],\n",
    "                         [1., 1., 1., 1., 1., 1., 1., 1., 0., 1., 1., 1., 1., 1., 1., 1., 1., 1., 1., 1.,],\n",
    "                         [1., 1., 1., 1., 1., 1., 1., 1., 1., 0., 1., 1., 1., 1., 1., 1., 1., 1., 1., 1.,],\n",
    "                         [1., 1., 1., 1., 1., 1., 1., 1., 1., 1., 0., 1., 1., 1., 1., 1., 1., 1., 1., 1.,],\n",
    "                         [1., 1., 1., 1., 1., 1., 1., 1., 1., 1., 1., 0., 1., 1., 1., 1., 1., 1., 1., 1.,],\n",
    "                         [1., 1., 1., 1., 1., 1., 1., 1., 1., 1., 1., 1., 0., 1., 1., 1., 1., 1., 1., 1.,],\n",
    "                         [1., 1., 1., 1., 1., 1., 1., 1., 1., 1., 1., 1., 1., 0., 1., 1., 1., 1., 1., 1.,],\n",
    "                         [1., 1., 1., 1., 1., 1., 1., 1., 1., 1., 1., 1., 1., 1., 0., 1., 1., 1., 1., 1.,],\n",
    "                         [1., 1., 1., 1., 1., 1., 1., 1., 1., 1., 1., 1., 1., 1., 1., 0., 1., 1., 1., 1.,],\n",
    "                         [1., 1., 1., 1., 1., 1., 1., 1., 1., 1., 1., 1., 1., 1., 1., 1., 0., 1., 1., 1.,],\n",
    "                         [1., 1., 1., 1., 1., 1., 1., 1., 1., 1., 1., 1., 1., 1., 1., 1., 1., 0., 1., 1.,],\n",
    "                         [1., 1., 1., 1., 1., 1., 1., 1., 1., 1., 1., 1., 1., 1., 1., 1., 1., 1., 0., 1.,],\n",
    "                         [1., 1., 1., 1., 1., 1., 1., 1., 1., 1., 1., 1., 1., 1., 1., 1., 1., 1., 1., 0.,]])"
   ]
  },
  {
   "cell_type": "code",
   "execution_count": 16,
   "metadata": {
    "collapsed": false,
    "deletable": true,
    "editable": true
   },
   "outputs": [
    {
     "data": {
      "image/png": "[encoded data removed]",
      "text/plain": [
       "<matplotlib.figure.Figure at 0x7fd63c0b3050>"
      ]
     },
     "metadata": {},
     "output_type": "display_data"
    }
   ],
   "source": [
    "# Plot RDM\n",
    "%matplotlib inline\n",
    "plt.matshow(category_rdm); plt.show()"
   ]
  },
  {
   "cell_type": "code",
   "execution_count": 17,
   "metadata": {
    "collapsed": false,
    "deletable": true,
    "editable": true,
    "scrolled": true
   },
   "outputs": [],
   "source": [
    "# Reformat single RDM for EvaluateSeqshard function\n",
    "rdms = category_rdm[:, :, None]\n",
    "\n",
    "# Set seed to get same sequence across runs\n",
    "np.random.seed(participant)\n",
    "results = EvaluateSeqshard(parameters, rdms)"
   ]
  },
  {
   "cell_type": "code",
   "execution_count": 18,
   "metadata": {
    "collapsed": false,
    "deletable": true,
    "editable": true
   },
   "outputs": [
    {
     "name": "stdout",
     "output_type": "stream",
     "text": [
      "[  0.   1.   2.   3.   4.   5.   6.   7.   8.   9.  10.  11.  12.  13.  14.\n",
      "  15.  16.  17.  18.  19.  20.  21.]\n"
     ]
    }
   ],
   "source": [
    "# View condition labels\n",
    "# 0 = fixation trial, 21 = catch trial\n",
    "print np.unique(results['BestSeqs'][:, 0])"
   ]
  },
  {
   "cell_type": "code",
   "execution_count": 19,
   "metadata": {
    "collapsed": false,
    "deletable": true,
    "editable": true
   },
   "outputs": [],
   "source": [
    "# Sort according to the efficiency of the first similarity matrix\n",
    "sort_idx = np.argsort(results['bestEs'][0, :])[::-1]"
   ]
  },
  {
   "cell_type": "code",
   "execution_count": 20,
   "metadata": {
    "collapsed": false,
    "deletable": true,
    "editable": true
   },
   "outputs": [
    {
     "name": "stdout",
     "output_type": "stream",
     "text": [
      "[ 0.97010193  0.97010193  0.97010193  0.97010193  0.97010193  0.97010193\n",
      "  0.97010193  0.97010193  0.97010193  0.97010193]\n"
     ]
    }
   ],
   "source": [
    "# Sort efficiencies and print first fiew\n",
    "efficiencies = results['bestEs'][0, sort_idx].T\n",
    "print efficiencies[:10]"
   ]
  },
  {
   "cell_type": "code",
   "execution_count": 21,
   "metadata": {
    "collapsed": false,
    "deletable": true,
    "editable": true
   },
   "outputs": [
    {
     "name": "stdout",
     "output_type": "stream",
     "text": [
      "(485,) [ 15.  15.   7.  16.   0.   9.  21.  12.  13.   5.   2.  10.  11.   3.   1.\n",
      "  18.  17.   8.   6.   4.  19.  20.  14.  14.   7.   9.   0.  16.  21.  13.\n",
      "  12.  15.   5.  10.   2.  11.   1.   3.  18.   8.  17.   6.  19.   4.  20.\n",
      "  20.  21.   9.  12.  16.   7.   0.  15.  13.  19.  14.   6.   8.   4.  18.\n",
      "   1.  17.  11.  10.   3.   2.   5.   5.  21.   2.   0.  12.   7.  13.  15.\n",
      "  16.   9.  10.   6.  20.  17.  18.   4.   3.  11.   8.   1.  14.  19.  19.\n",
      "  21.   5.   0.  13.   7.  12.   9.  15.   2.   4.   6.  14.  17.  20.   1.\n",
      "   8.  11.  18.   3.  16.  10.  10.  21.  11.   0.   5.   7.   2.  15.   9.\n",
      "  16.  12.   4.  13.  17.  19.   1.   6.   3.   8.  14.  20.  18.  18.  21.\n",
      "  10.   0.   2.   7.   5.  15.  12.  20.  16.   4.   9.  17.  14.   1.  19.\n",
      "   3.   6.  11.  13.   8.   8.  21.   3.   0.  10.   7.  11.  15.   1.  20.\n",
      "  19.  16.  13.   6.  17.   9.   5.  12.   2.  18.  14.   4.   4.  21.   1.\n",
      "   0.  11.   7.  10.  15.   3.  20.   9.  19.  12.   8.  16.  17.  13.   2.\n",
      "  14.   5.  18.   6.   6.  21.  18.   0.   3.   7.   1.  15.  10.  20.  12.\n",
      "  14.  16.   5.   8.   9.  13.  11.   4.   2.  19.  17.  17.  21.   8.   0.\n",
      "   1.   7.   3.  15.  11.  20.  13.  14.   9.  18.  16.   2.   6.   5.  19.\n",
      "  10.   4.  12.  12.  21.  17.   0.  18.   7.   8.  15.   4.  16.  20.   5.\n",
      "   9.  14.   2.  13.   3.  10.  19.  11.   6.   1.   1.  21.   6.   0.  17.\n",
      "   7.  18.  15.   8.  20.  10.  16.  14.  13.   9.   3.  12.   5.   4.  11.\n",
      "  19.   2.   2.  21.   4.   0.   8.   7.  17.  15.  18.  20.   3.   9.   1.\n",
      "  16.   6.  12.  19.  13.  10.   5.  14.  11.  11.  21.  19.   0.   6.   7.\n",
      "   4.  15.  20.   8.  13.   1.  12.  10.  17.   5.  16.   3.  14.  18.   2.\n",
      "   9.   9.   2.  12.   0.  21.   7.   6.  15.  19.   5.  20.   4.  14.  10.\n",
      "   8.  18.  13.  16.   1.  11.  17.   3.   3.  21.  20.   0.   4.   7.  19.\n",
      "  15.   6.   9.   8.   5.  13.  18.  11.   2.   1.  10.  14.  12.  17.  16.\n",
      "  16.  11.   9.   6.  13.   0.  19.   7.  14.   3.   5.  17.  12.  18.  10.\n",
      "   1.   4.   8.   2.  20.  15.  21.  21.  14.   8.  12.  11.  16.  18.   5.\n",
      "   3.  19.   6.   2.  17.   1.  13.   4.  10.   9.  20.   7.  15.   0.   0.\n",
      "  14.  21.  16.  15.  17.  10.  13.  20.   2.   8.   3.   4.   1.   5.  11.\n",
      "  12.   6.  18.  19.   9.   7.   7.  21.  15.  14.   0.  20.  11.   5.   6.\n",
      "  16.  19.   8.  10.  18.  12.   1.   9.   4.  17.   2.   3.  13.  13.  21.\n",
      "   0.   7.  20.   6.  10.  12.   3.  17.   4.   5.   1.   2.  16.   8.  19.\n",
      "  18.   9.  11.  14.  15.]\n"
     ]
    }
   ],
   "source": [
    "# Sort sequences and print most efficient\n",
    "sequences = results['BestSeqs'][:, sort_idx].T\n",
    "assert len(sequences[0]) == int(parameters['N'])**2 + 1\n",
    "print sequences[0].shape, sequences[0]"
   ]
  },
  {
   "cell_type": "markdown",
   "metadata": {},
   "source": [
    "Each sequence is $22^2 + 1 = 485$ trials long. We'll use two sequences that end with the same trial number per participant."
   ]
  },
  {
   "cell_type": "code",
   "execution_count": 22,
   "metadata": {
    "collapsed": true,
    "deletable": true,
    "editable": true
   },
   "outputs": [],
   "source": [
    "# Save efficiencies and sequences\n",
    "np.savetxt('sequences_{0}.txt'.format(participant),\n",
    "           sequences, fmt='%d', delimiter=',')\n",
    "np.savetxt('efficiencies_{0}.txt'.format(participant),\n",
    "           efficiencies)"
   ]
  },
  {
   "cell_type": "code",
   "execution_count": 23,
   "metadata": {
    "collapsed": false
   },
   "outputs": [],
   "source": [
    "# Find next best sequence with same starting trial\n",
    "sequence_one = sequences[0]\n",
    "next_best = np.where(sequences[:, 0] == sequence_one[0])[0][1]\n",
    "sequence_two = sequences[next_best]\n",
    "assert not np.array_equal(sequence_one, sequence_two)"
   ]
  },
  {
   "cell_type": "code",
   "execution_count": 24,
   "metadata": {
    "collapsed": false,
    "deletable": true,
    "editable": true
   },
   "outputs": [
    {
     "name": "stdout",
     "output_type": "stream",
     "text": [
      "Session one sequence (efficiency = 0.970101933305):\n",
      "[ 15.  15.   7.  16.   0.   9.  21.  12.  13.   5.   2.  10.  11.   3.   1.\n",
      "  18.  17.   8.   6.   4.  19.  20.  14.  14.   7.   9.   0.  16.  21.  13.\n",
      "  12.  15.   5.  10.   2.  11.   1.   3.  18.   8.  17.   6.  19.   4.  20.\n",
      "  20.  21.   9.  12.  16.   7.   0.  15.  13.  19.  14.   6.   8.   4.  18.\n",
      "   1.  17.  11.  10.   3.   2.   5.   5.  21.   2.   0.  12.   7.  13.  15.\n",
      "  16.   9.  10.   6.  20.  17.  18.   4.   3.  11.   8.   1.  14.  19.  19.\n",
      "  21.   5.   0.  13.   7.  12.   9.  15.   2.   4.   6.  14.  17.  20.   1.\n",
      "   8.  11.  18.   3.  16.  10.  10.  21.  11.   0.   5.   7.   2.  15.   9.\n",
      "  16.  12.   4.  13.  17.  19.   1.   6.   3.   8.  14.  20.  18.  18.  21.\n",
      "  10.   0.   2.   7.   5.  15.  12.  20.  16.   4.   9.  17.  14.   1.  19.\n",
      "   3.   6.  11.  13.   8.   8.  21.   3.   0.  10.   7.  11.  15.   1.  20.\n",
      "  19.  16.  13.   6.  17.   9.   5.  12.   2.  18.  14.   4.   4.  21.   1.\n",
      "   0.  11.   7.  10.  15.   3.  20.   9.  19.  12.   8.  16.  17.  13.   2.\n",
      "  14.   5.  18.   6.   6.  21.  18.   0.   3.   7.   1.  15.  10.  20.  12.\n",
      "  14.  16.   5.   8.   9.  13.  11.   4.   2.  19.  17.  17.  21.   8.   0.\n",
      "   1.   7.   3.  15.  11.  20.  13.  14.   9.  18.  16.   2.   6.   5.  19.\n",
      "  10.   4.  12.  12.  21.  17.   0.  18.   7.   8.  15.   4.  16.  20.   5.\n",
      "   9.  14.   2.  13.   3.  10.  19.  11.   6.   1.   1.  21.   6.   0.  17.\n",
      "   7.  18.  15.   8.  20.  10.  16.  14.  13.   9.   3.  12.   5.   4.  11.\n",
      "  19.   2.   2.  21.   4.   0.   8.   7.  17.  15.  18.  20.   3.   9.   1.\n",
      "  16.   6.  12.  19.  13.  10.   5.  14.  11.  11.  21.  19.   0.   6.   7.\n",
      "   4.  15.  20.   8.  13.   1.  12.  10.  17.   5.  16.   3.  14.  18.   2.\n",
      "   9.   9.   2.  12.   0.  21.   7.   6.  15.  19.   5.  20.   4.  14.  10.\n",
      "   8.  18.  13.  16.   1.  11.  17.   3.   3.  21.  20.   0.   4.   7.  19.\n",
      "  15.   6.   9.   8.   5.  13.  18.  11.   2.   1.  10.  14.  12.  17.  16.\n",
      "  16.  11.   9.   6.  13.   0.  19.   7.  14.   3.   5.  17.  12.  18.  10.\n",
      "   1.   4.   8.   2.  20.  15.  21.  21.  14.   8.  12.  11.  16.  18.   5.\n",
      "   3.  19.   6.   2.  17.   1.  13.   4.  10.   9.  20.   7.  15.   0.   0.\n",
      "  14.  21.  16.  15.  17.  10.  13.  20.   2.   8.   3.   4.   1.   5.  11.\n",
      "  12.   6.  18.  19.   9.   7.   7.  21.  15.  14.   0.  20.  11.   5.   6.\n",
      "  16.  19.   8.  10.  18.  12.   1.   9.   4.  17.   2.   3.  13.  13.  21.\n",
      "   0.   7.  20.   6.  10.  12.   3.  17.   4.   5.   1.   2.  16.   8.  19.\n",
      "  18.   9.  11.  14.  15.]\n",
      "Session two sequence (efficiency = 0.970101933305):\n",
      "[ 15.  15.   5.   9.  21.   6.   0.  17.   2.   4.   3.  18.   8.   1.  20.\n",
      "  14.  13.  10.  16.  11.  19.  12.   7.   7.   5.   6.  21.   9.   0.   2.\n",
      "  17.  15.   4.  18.   3.   8.  20.   1.  14.  10.  13.  16.  19.  11.  12.\n",
      "  12.   0.   6.  17.   9.   5.  21.  15.   2.  19.   7.  16.  10.  11.  14.\n",
      "  20.  13.   8.  18.   1.   3.   4.   4.   0.   3.  21.  17.   5.   2.  15.\n",
      "   9.   6.  18.  16.  12.  13.  14.  11.   1.   8.  10.  20.   7.  19.  19.\n",
      "   0.   4.  21.   2.   5.  17.   6.  15.   3.  11.  16.   7.  13.  12.  20.\n",
      "  10.   8.  14.   1.   9.  18.  18.   0.   8.  21.   4.   5.   3.  15.   6.\n",
      "   9.  17.  11.   2.  13.  19.  20.  16.   1.  10.   7.  12.  14.  14.   0.\n",
      "  18.  21.   3.   5.   4.  15.  17.  12.   9.  11.   6.  13.   7.  20.  19.\n",
      "   1.  16.   8.   2.  10.  10.   0.   1.  21.  18.   5.   8.  15.  20.  12.\n",
      "  19.   9.   2.  16.  13.   6.   4.  17.   3.  14.   7.  11.  11.   0.  20.\n",
      "  21.   8.   5.  18.  15.   1.  12.   6.  19.  17.  10.   9.  13.   2.   3.\n",
      "   7.   4.  14.  16.  16.   0.  14.  21.   1.   5.  20.  15.  18.  12.  17.\n",
      "   7.   9.   4.  10.   6.   2.   8.  11.   3.  19.  13.  13.   0.  10.  21.\n",
      "  20.   5.   1.  15.   8.  12.   2.   7.   6.  14.   9.   3.  16.   4.  19.\n",
      "  18.  11.  17.  17.   0.  13.  21.  14.   5.  10.  15.  11.   9.  12.   4.\n",
      "   6.   7.   3.   2.   1.  18.  19.   8.  16.  20.  20.   0.  16.  21.  13.\n",
      "   5.  14.  15.  10.  12.  18.   9.   7.   2.   6.   1.  17.   4.  11.   8.\n",
      "  19.   3.   3.   0.  11.  21.  10.   5.  13.  15.  14.  12.   1.   6.  20.\n",
      "   9.  16.  17.  19.   2.  18.   4.   7.   8.   8.   0.  19.  21.  16.   5.\n",
      "  11.  15.  12.  10.   2.  20.  17.  18.  13.   4.   9.   1.   7.  14.   3.\n",
      "   6.   6.   3.  17.  21.   0.   5.  16.  15.  19.   4.  12.  11.   7.  18.\n",
      "  10.  14.   2.   9.  20.   8.  13.   1.   1.   0.  12.  21.  11.   5.  19.\n",
      "  15.  16.   6.  10.   4.   2.  14.   8.   3.  20.  18.   7.  17.  13.   9.\n",
      "   9.   8.   6.  16.   2.  21.  19.   5.   7.   1.   4.  13.  17.  14.  18.\n",
      "  20.  11.  10.   3.  12.  15.   0.   0.   7.  10.  17.   8.   9.  14.   4.\n",
      "   1.  19.  16.   3.  13.  20.   2.  11.  18.   6.  12.   5.  15.  21.  21.\n",
      "   7.   0.   9.  15.  13.  18.   2.  12.   3.  10.   1.  11.  20.   4.   8.\n",
      "  17.  16.  14.  19.   6.   5.   5.   0.  15.   7.  21.  12.   8.   4.  16.\n",
      "   9.  19.  10.  18.  14.  17.  20.   6.  11.  13.   3.   1.   2.   2.   0.\n",
      "  21.   5.  12.  16.  18.  17.   1.  13.  11.   4.  20.   3.   9.  10.  19.\n",
      "  14.   6.   8.   7.  15.]\n"
     ]
    }
   ],
   "source": [
    "# Print sequences\n",
    "print \"Session one sequence (efficiency = {0}):\\n{1}\".format(\n",
    "        efficiencies[0], sequence_one)\n",
    "print \"Session two sequence (efficiency = {0}):\\n{1}\".format(\n",
    "        efficiencies[next_best], sequence_two)"
   ]
  },
  {
   "cell_type": "code",
   "execution_count": 29,
   "metadata": {
    "collapsed": true,
    "deletable": true,
    "editable": true
   },
   "outputs": [],
   "source": [
    "# Save optimized sequences for sessions 1 and 2\n",
    "np.savetxt('sequence_subject{0}_session1.txt'.format(participant),\n",
    "           sequence_one, fmt='%d', delimiter=',')\n",
    "np.savetxt('sequence_subject{0}_session2.txt'.format(participant),\n",
    "           sequence_two, fmt='%d', delimiter=',')"
   ]
  }
 ],
 "metadata": {
  "kernelspec": {
   "display_name": "Python 2",
   "language": "python",
   "name": "python2"
  },
  "language_info": {
   "codemirror_mode": {
    "name": "ipython",
    "version": 2
   },
   "file_extension": ".py",
   "mimetype": "text/x-python",
   "name": "python",
   "nbconvert_exporter": "python",
   "pygments_lexer": "ipython2",
   "version": "2.7.12"
  }
 },
 "nbformat": 4,
 "nbformat_minor": 0
}
